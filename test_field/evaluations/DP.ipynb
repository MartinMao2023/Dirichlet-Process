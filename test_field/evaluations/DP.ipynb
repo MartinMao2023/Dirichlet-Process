{
 "cells": [
  {
   "cell_type": "code",
   "execution_count": 1,
   "metadata": {},
   "outputs": [],
   "source": [
    "from Archives import Archive_xy, Archive_arc\n"
   ]
  },
  {
   "cell_type": "code",
   "execution_count": 2,
   "metadata": {},
   "outputs": [],
   "source": [
    "archive_xy = Archive_xy()\n",
    "archive_xy.load(\"archive_xy\")\n",
    "adaptor_xy = archive_xy.build_adaptor()\n",
    "adaptor_xy.save()\n",
    "\n",
    "archive_arc = Archive_arc()\n",
    "archive_arc.load(\"archive_arc\")\n",
    "adaptor_arc = archive_arc.build_adaptor()\n",
    "adaptor_arc.save()"
   ]
  }
 ],
 "metadata": {
  "kernelspec": {
   "display_name": "data_science",
   "language": "python",
   "name": "python3"
  },
  "language_info": {
   "codemirror_mode": {
    "name": "ipython",
    "version": 3
   },
   "file_extension": ".py",
   "mimetype": "text/x-python",
   "name": "python",
   "nbconvert_exporter": "python",
   "pygments_lexer": "ipython3",
   "version": "3.8.10"
  },
  "orig_nbformat": 4
 },
 "nbformat": 4,
 "nbformat_minor": 2
}
