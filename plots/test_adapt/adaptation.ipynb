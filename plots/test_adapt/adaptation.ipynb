{
 "cells": [
  {
   "cell_type": "code",
   "execution_count": 209,
   "metadata": {},
   "outputs": [],
   "source": [
    "from Adaptor import Adaptor_xy, Adaptor_arc, Adaptor_rte, Combined_adaptor_xy, Combined_adaptor_arc\n",
    "import numpy as np\n",
    "import numpy.linalg as lg\n",
    "import matplotlib.pyplot as plt"
   ]
  },
  {
   "cell_type": "code",
   "execution_count": 210,
   "metadata": {},
   "outputs": [],
   "source": [
    "# adaptor_xy = Adaptor_xy()\n",
    "# adaptor_xy.load(\"adaptor_xy.json\")\n",
    "# # adaptor_xy.load(\"new_adaptor_xy.json\")\n",
    "# adaptor_arc = Adaptor_arc()\n",
    "# adaptor_arc.load(\"adaptor_arc.json\")\n",
    "# # adaptor_arc.load(\"new_adaptor_arc.json\")\n",
    "\n",
    "adaptor_xy = Combined_adaptor_xy()\n",
    "adaptor_xy.load(\"combined_xy\")\n",
    "# adaptor_xy.load(\"new_adaptor_xy\")\n",
    "\n",
    "adaptor_arc = Combined_adaptor_arc()\n",
    "# adaptor_arc.load(\"combined_arc\")\n",
    "adaptor_arc.load(\"new_adaptor_arc\")\n",
    "\n",
    "adaptor_rte = Adaptor_rte(v=0.5)"
   ]
  },
  {
   "cell_type": "code",
   "execution_count": 211,
   "metadata": {},
   "outputs": [],
   "source": [
    "coor_x = np.load(\"coor_x.npy\")\n",
    "coor_y = np.load(\"coor_y.npy\")\n",
    "coor_v = np.load(\"coor_v.npy\")\n",
    "coor_w = np.load(\"coor_w.npy\")\n",
    "coor_phi = np.load(\"coor_phi.npy\")\n",
    "baselines = np.load(\"filtered_baseline.npy\")\n",
    "\n",
    "dmg_0_case = np.load(\"f=0.95_s=0.95_dmg0.npy\")\n",
    "dmg_1_case = np.load(\"f=0.85_s=0.9_dmg1.npy\")\n",
    "dmg_2_case = np.load(\"f=0.73_s=0.92_dmg2.npy\")\n",
    "dmg_3_case = np.load(\"f=0.88_s=0.76_dmg3.npy\")\n",
    "dmg_4_case = np.load(\"f=0.77_s=0.82_dmg4.npy\")\n",
    "\n",
    "steps_taken = np.random.choice(len(baselines), size=36)\n"
   ]
  },
  {
   "cell_type": "code",
   "execution_count": 212,
   "metadata": {},
   "outputs": [
    {
     "name": "stdout",
     "output_type": "stream",
     "text": [
      "[0.98 0.02]\n"
     ]
    }
   ],
   "source": [
    "print(adaptor_xy.prior_weights)"
   ]
  },
  {
   "cell_type": "code",
   "execution_count": 213,
   "metadata": {},
   "outputs": [],
   "source": [
    "errors = np.zeros(36)\n",
    "# case = dmg_0_case\n",
    "case = dmg_1_case\n",
    "case = dmg_2_case\n",
    "# case = dmg_3_case\n",
    "# case = dmg_4_case\n",
    "true_x = case[:, 0]\n",
    "true_y = case[:, 1]\n",
    "\n",
    "# coors, baselines, results\n",
    "\n",
    "for i, index in enumerate(steps_taken):\n",
    "\n",
    "    # if i:\n",
    "    #     coor = np.vstack((coor_x[index], coor_y[index]))\n",
    "    #     baseline = baselines[index].reshape(-1, 1)\n",
    "    #     result = case[index].reshape(-1, 1)\n",
    "    #     adaptor_xy.read_data(coor, baseline, result)\n",
    "    \n",
    "    # predicted_x, predicted_y = adaptor_xy.predict((coor_x, coor_y), baselines.T)\n",
    "\n",
    "\n",
    "    if i:\n",
    "        coor = np.vstack((coor_v[index], coor_w[index], coor_phi[index]))\n",
    "        baseline = baselines[index].reshape(-1, 1)\n",
    "        result = case[index].reshape(-1, 1)\n",
    "        adaptor_arc.read_data(coor, baseline, result)\n",
    "    \n",
    "    predicted_x, predicted_y = adaptor_arc.predict((coor_v, coor_w, coor_phi), baselines.T)\n",
    "\n",
    "\n",
    "\n",
    "\n",
    "\n",
    "\n",
    "\n",
    "    # if i:\n",
    "    #     step_data = np.zeros((2, 3))\n",
    "    #     step_data[:, 0] = baselines[index, 0]\n",
    "    #     step_data[:, 1] = baselines[index, 1]\n",
    "    #     step_data[0, 2] = case[index, 0] - baselines[index, 0]\n",
    "    #     step_data[1, 2] = case[index, 1] - baselines[index, 1]\n",
    "    #     adaptor_rte.read_data(step_data)\n",
    "    #     # print(step_data[:, -1])\n",
    "        \n",
    "    # predicted_x, predicted_y = adaptor_rte.predict(baselines[:, :2])\n",
    "\n",
    "\n",
    "    errors[i] = np.mean(np.square(predicted_x[:, 0] - true_x) + np.square(predicted_y[:, 0] - true_y))\n",
    "\n",
    "\n"
   ]
  },
  {
   "cell_type": "code",
   "execution_count": 214,
   "metadata": {},
   "outputs": [
    {
     "name": "stdout",
     "output_type": "stream",
     "text": [
      "1.9544670581817627 1.4375260029153278 0.6332618669403249\n"
     ]
    },
    {
     "data": {
      "image/png": "[encoded data removed]",
      "text/plain": [
       "<Figure size 640x480 with 1 Axes>"
      ]
     },
     "metadata": {},
     "output_type": "display_data"
    }
   ],
   "source": [
    "print(errors[0], errors[-1], np.min(errors))\n",
    "plt.plot(np.arange(36), errors)\n",
    "plt.show()"
   ]
  },
  {
   "cell_type": "code",
   "execution_count": 215,
   "metadata": {},
   "outputs": [
    {
     "name": "stdout",
     "output_type": "stream",
     "text": [
      "[8.89103399e-14 1.00000000e+00]\n"
     ]
    }
   ],
   "source": [
    "# print(adaptor_xy.adaptor_xy.posteriors)\n",
    "# print(adaptor_xy.weights)\n",
    "print(adaptor_arc.weights)"
   ]
  },
  {
   "cell_type": "code",
   "execution_count": 216,
   "metadata": {},
   "outputs": [],
   "source": [
    "# x_data = np.concatenate(adaptor_rte.x_data, axis=0)\n",
    "# # print(x_data.shape)\n",
    "# # b = x_data[:, :-1] / 9 + 0.5\n",
    "# # b = baseline[:, 0]/9 + 0.5\n",
    "# # print(b.shape)\n",
    "# # plt.hist(b)\n",
    "# # plt.show()\n",
    "\n",
    "\n",
    "# coor = x_data[:, :-1] / 9 + 0.5\n",
    "# cov = adaptor_rte.kernel(coor) + np.eye(len(coor))*1e-6\n",
    "# coors = baseline[:, :2].copy()\n",
    "# matrix = adaptor_rte.kernel((coors/9 + 0.5), coor) @ lg.inv(adaptor_rte.kernel(coor) + np.eye(len(coor))*1e-6)\n",
    "\n",
    "# print(matrix.shape)\n",
    "\n",
    "# x_target = x_data[:, -1].reshape(-1, 1)\n",
    "\n",
    "\n",
    "# plt.hist(matrix @ x_target)\n",
    "# plt.show()\n",
    "# plt.imshow(matrix)\n",
    "# plt.colorbar()\n",
    "# plt.show()"
   ]
  },
  {
   "cell_type": "code",
   "execution_count": null,
   "metadata": {},
   "outputs": [],
   "source": []
  }
 ],
 "metadata": {
  "kernelspec": {
   "display_name": "data_science",
   "language": "python",
   "name": "python3"
  },
  "language_info": {
   "codemirror_mode": {
    "name": "ipython",
    "version": 3
   },
   "file_extension": ".py",
   "mimetype": "text/x-python",
   "name": "python",
   "nbconvert_exporter": "python",
   "pygments_lexer": "ipython3",
   "version": "3.8.10"
  },
  "orig_nbformat": 4
 },
 "nbformat": 4,
 "nbformat_minor": 2
}
