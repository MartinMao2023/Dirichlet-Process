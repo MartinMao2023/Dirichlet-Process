{
 "cells": [
  {
   "cell_type": "code",
   "execution_count": 1,
   "metadata": {},
   "outputs": [],
   "source": [
    "from Adaptor import Adaptor_xy, Adaptor_arc, Adaptor_rte\n",
    "import numpy as np\n",
    "import numpy.linalg as lg\n",
    "import matplotlib.pyplot as plt"
   ]
  },
  {
   "cell_type": "code",
   "execution_count": 2,
   "metadata": {},
   "outputs": [],
   "source": [
    "adaptor_xy = Adaptor_xy()\n",
    "adaptor_xy.load(\"adaptor_xy.json\")\n",
    "# adaptor_xy.load(\"new_adaptor_xy.json\")\n",
    "adaptor_arc = Adaptor_arc()\n",
    "adaptor_arc.load(\"adaptor_arc.json\")\n",
    "# adaptor_arc.load(\"new_adaptor_arc.json\")\n",
    "\n",
    "adaptor_rte = Adaptor_rte(v=0.5)"
   ]
  },
  {
   "cell_type": "code",
   "execution_count": 3,
   "metadata": {},
   "outputs": [],
   "source": [
    "coor_x = np.load(\"coor_x.npy\")\n",
    "coor_y = np.load(\"coor_y.npy\")\n",
    "coor_v = np.load(\"coor_v.npy\")\n",
    "coor_w = np.load(\"coor_w.npy\")\n",
    "coor_phi = np.load(\"coor_phi.npy\")\n",
    "baseline = np.load(\"filtered_baseline.npy\")\n",
    "\n",
    "dmg_0_case = np.load(\"f=0.95_s=0.95_dmg0.npy\")\n",
    "dmg_1_case = np.load(\"f=0.85_s=0.9_dmg1.npy\")\n",
    "dmg_2_case = np.load(\"f=0.73_s=0.92_dmg2.npy\")\n",
    "dmg_3_case = np.load(\"f=0.88_s=0.76_dmg3.npy\")\n",
    "dmg_4_case = np.load(\"f=0.77_s=0.82_dmg4.npy\")\n",
    "\n",
    "steps_taken = np.random.choice(len(baseline), size=36)\n"
   ]
  },
  {
   "cell_type": "code",
   "execution_count": 4,
   "metadata": {},
   "outputs": [
    {
     "name": "stdout",
     "output_type": "stream",
     "text": [
      "[0.16 0.2  0.06 0.12 0.2  0.1  0.04 0.04 0.04 0.02 0.02]\n"
     ]
    }
   ],
   "source": [
    "print(adaptor_xy.prior_weights)"
   ]
  },
  {
   "cell_type": "code",
   "execution_count": 5,
   "metadata": {},
   "outputs": [],
   "source": [
    "errors = np.zeros(36)\n",
    "case = dmg_0_case\n",
    "case = dmg_1_case\n",
    "# case = dmg_2_case\n",
    "# case = dmg_3_case\n",
    "# case = dmg_4_case\n",
    "true_x = case[:, 0]\n",
    "true_y = case[:, 1]\n",
    "\n",
    "\n",
    "for i, index in enumerate(steps_taken):\n",
    "\n",
    "    if i:\n",
    "        step_data = np.zeros((2, 6))\n",
    "        step_data[0, :5] = coor_x[index]\n",
    "        step_data[0, 5] = case[index, 0] - baseline[index, 0]\n",
    "        step_data[1, :5] = coor_y[index]\n",
    "        step_data[1, 5] = case[index, 1] - baseline[index, 1]\n",
    "        adaptor_xy.read_data(step_data)\n",
    "    \n",
    "    predicted_x, predicted_y = adaptor_xy.predict((coor_x, coor_y), (baseline[:, 0], baseline[:, 1]))\n",
    "\n",
    "\n",
    "\n",
    "    # if i:\n",
    "    #     step_data = np.zeros((3, 7))\n",
    "\n",
    "    #     v = case[index, 2]\n",
    "    #     w = case[index, 3]\n",
    "    #     phi = case[index, 4]\n",
    "    #     sin_theta = np.sin(w*4 + phi)\n",
    "    #     cos_theta = np.cos(w*4 + phi)\n",
    "    #     sin_phi = np.sin(phi)\n",
    "    #     cos_phi = np.cos(phi)\n",
    "    #     x_ = v/w*(sin_theta - sin_phi)\n",
    "    #     y_ = v/w*(cos_phi - cos_theta)\n",
    "\n",
    "    #     noise_v = v**2 / (x_**2 + y_**2 + 1e-6) + 1e-6\n",
    "    #     noise_w = (w**2 + 0.01) / (np.square(4*v*cos_theta - x_) + np.square(4*v*sin_theta - y_) + 1e-8)\n",
    "    #     noise_phi = 1 / (x_**2 + y_**2 + 16e-6*v**2)\n",
    "\n",
    "\n",
    "    #     step_data[0, :5] = coor_v[index]\n",
    "    #     step_data[1, :5] = coor_w[index]\n",
    "    #     step_data[2, :5] = coor_phi[index]\n",
    "\n",
    "    #     step_data[0, 5] = noise_v\n",
    "    #     step_data[1, 5] = noise_w\n",
    "    #     step_data[2, 5] = noise_phi\n",
    "\n",
    "    #     step_data[0, 6] = case[index, 2] - baseline[index, 2]\n",
    "    #     step_data[1, 6] = case[index, 3] - baseline[index, 3]\n",
    "    #     step_data[2, 6] = np.mod(case[index, 4] - baseline[index, 4] + 3*np.pi, 2*np.pi) - np.pi\n",
    "    #     adaptor_arc.read_data(step_data)\n",
    "    \n",
    "    # predicted_x, predicted_y = adaptor_arc.predict((coor_v, coor_w, coor_phi), \n",
    "    #                                               (baseline[:, 2], baseline[:, 3], baseline[:, 4]))\n",
    "\n",
    "\n",
    "\n",
    "\n",
    "\n",
    "\n",
    "\n",
    "    # if i:\n",
    "    #     step_data = np.zeros((2, 3))\n",
    "    #     step_data[:, 0] = baseline[index, 0]\n",
    "    #     step_data[:, 1] = baseline[index, 1]\n",
    "    #     step_data[0, 2] = case[index, 0] - baseline[index, 0]\n",
    "    #     step_data[1, 2] = case[index, 1] - baseline[index, 1]\n",
    "    #     adaptor_rte.read_data(step_data)\n",
    "    #     # print(step_data[:, -1])\n",
    "        \n",
    "    # predicted_x, predicted_y = adaptor_rte.predict(baseline[:, :2])\n",
    "\n",
    "\n",
    "    errors[i] = np.mean(np.square(predicted_x[:, 0] - true_x) + np.square(predicted_y[:, 0] - true_y))\n",
    "\n",
    "\n"
   ]
  },
  {
   "cell_type": "code",
   "execution_count": 6,
   "metadata": {},
   "outputs": [
    {
     "name": "stdout",
     "output_type": "stream",
     "text": [
      "1.284316062927246 0.28228965401649475 0.2744925916194916\n"
     ]
    },
    {
     "data": {
      "image/png": "[encoded data removed]",
      "text/plain": [
       "<Figure size 640x480 with 1 Axes>"
      ]
     },
     "metadata": {},
     "output_type": "display_data"
    }
   ],
   "source": [
    "print(errors[0], errors[-1], np.min(errors))\n",
    "plt.plot(np.arange(36), errors)\n",
    "plt.show()"
   ]
  },
  {
   "cell_type": "code",
   "execution_count": 7,
   "metadata": {},
   "outputs": [
    {
     "name": "stdout",
     "output_type": "stream",
     "text": [
      "[(0, 1.0)]\n"
     ]
    }
   ],
   "source": [
    "print(adaptor_xy.posteriors)"
   ]
  },
  {
   "cell_type": "code",
   "execution_count": 8,
   "metadata": {},
   "outputs": [],
   "source": [
    "# x_data = np.concatenate(adaptor_rte.x_data, axis=0)\n",
    "# # print(x_data.shape)\n",
    "# # b = x_data[:, :-1] / 9 + 0.5\n",
    "# # b = baseline[:, 0]/9 + 0.5\n",
    "# # print(b.shape)\n",
    "# # plt.hist(b)\n",
    "# # plt.show()\n",
    "\n",
    "\n",
    "# coor = x_data[:, :-1] / 9 + 0.5\n",
    "# cov = adaptor_rte.kernel(coor) + np.eye(len(coor))*1e-6\n",
    "# coors = baseline[:, :2].copy()\n",
    "# matrix = adaptor_rte.kernel((coors/9 + 0.5), coor) @ lg.inv(adaptor_rte.kernel(coor) + np.eye(len(coor))*1e-6)\n",
    "\n",
    "# print(matrix.shape)\n",
    "\n",
    "# x_target = x_data[:, -1].reshape(-1, 1)\n",
    "\n",
    "\n",
    "# plt.hist(matrix @ x_target)\n",
    "# plt.show()\n",
    "# plt.imshow(matrix)\n",
    "# plt.colorbar()\n",
    "# plt.show()"
   ]
  },
  {
   "cell_type": "code",
   "execution_count": null,
   "metadata": {},
   "outputs": [],
   "source": []
  }
 ],
 "metadata": {
  "kernelspec": {
   "display_name": "data_science",
   "language": "python",
   "name": "python3"
  },
  "language_info": {
   "codemirror_mode": {
    "name": "ipython",
    "version": 3
   },
   "file_extension": ".py",
   "mimetype": "text/x-python",
   "name": "python",
   "nbconvert_exporter": "python",
   "pygments_lexer": "ipython3",
   "version": "3.8.10"
  },
  "orig_nbformat": 4
 },
 "nbformat": 4,
 "nbformat_minor": 2
}
