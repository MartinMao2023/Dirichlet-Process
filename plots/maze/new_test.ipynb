{
 "cells": [
  {
   "cell_type": "code",
   "execution_count": 6,
   "metadata": {},
   "outputs": [],
   "source": [
    "from new_tools import reward, no_collision\n",
    "import numpy as np\n",
    "from Adaptor import Adaptor_rte\n",
    "import math"
   ]
  },
  {
   "cell_type": "code",
   "execution_count": 7,
   "metadata": {},
   "outputs": [],
   "source": [
    "baseline = np.load(\"filtered_baseline.npy\")\n",
    "case = np.load(\"f=0.85_s=0.9_dmg1.npy\")\n",
    "adaptor_rte = Adaptor_rte(v=0.5)"
   ]
  },
  {
   "cell_type": "code",
   "execution_count": 8,
   "metadata": {},
   "outputs": [
    {
     "name": "stdout",
     "output_type": "stream",
     "text": [
      "early complete: 17 steps\n"
     ]
    }
   ],
   "source": [
    "# RTE\n",
    "state_x = 0\n",
    "state_y = 0\n",
    "state_theta = 1\n",
    "# state_theta = 0\n",
    "outcomes = np.zeros((len(baseline), 2), dtype=np.float32)\n",
    "\n",
    "budget = 50\n",
    "\n",
    "positions = np.zeros((budget + 1, 2), dtype=np.float32)\n",
    "positions[0] = state_x, state_y\n",
    "complete_index = budget\n",
    "\n",
    "for i in range(budget):\n",
    "    R_matrix = np.array([\n",
    "        [math.cos(state_theta), -math.sin(state_theta)],\n",
    "        [math.sin(state_theta), math.cos(state_theta)]\n",
    "    ], dtype=np.float32)\n",
    "\n",
    "    # predicted_x, predicted_y = adaptor_rte.predict(baseline[:, :2])\n",
    "\n",
    "    # predicted_x, predicted_y = baseline[:, :2].T # baseline\n",
    "    predicted_x, predicted_y = case[:, :2].T # damage\n",
    "    predicted_x = predicted_x.reshape(-1, 1)\n",
    "    predicted_y = predicted_y.reshape(-1, 1)\n",
    "    # print(predicted_x.shape)\n",
    "\n",
    "    outcomes[:, 0] = predicted_x[:, 0]\n",
    "    outcomes[:, 1] = predicted_y[:, 0]\n",
    "    outcomes = outcomes @ R_matrix.T\n",
    "    outcomes[:, 0] += state_x\n",
    "    outcomes[:, 1] += state_y\n",
    "\n",
    "    rewards = reward((state_x, state_y), outcomes)\n",
    "\n",
    "    next_action_index = np.argmax(rewards)\n",
    "    # print(outcomes[next_action_index])\n",
    "    # print(next_action_index)\n",
    "\n",
    "    true_x , true_y, true_v, true_w, true_phi = case[next_action_index]\n",
    "    # true_x , true_y, true_v, true_w, true_phi = baseline[next_action_index]\n",
    "\n",
    "    step_data = np.zeros((2, 3))\n",
    "    step_data[:, 0] = baseline[next_action_index, 0]\n",
    "    step_data[:, 1] = baseline[next_action_index, 1]\n",
    "    step_data[0, 2] = true_x - baseline[next_action_index, 0]\n",
    "    step_data[1, 2] = true_y - baseline[next_action_index, 1]\n",
    "    adaptor_rte.read_data(step_data)\n",
    "\n",
    "\n",
    "    new_x = math.cos(state_theta)*true_x - math.sin(state_theta)*true_y + state_x\n",
    "    new_y = math.sin(state_theta)*true_x + math.cos(state_theta)*true_y + state_y\n",
    "\n",
    "\n",
    "    if no_collision((state_x, state_y), (new_x, new_y)):\n",
    "        state_x = new_x\n",
    "        state_y = new_y\n",
    "        state_theta += 4*true_w\n",
    "    elif not ((-2.09 < state_y < 14.09 and state_x < 22.09) and (not (2.09 < state_y < 12.91 and state_x < 20.41))):\n",
    "        print(state_x, state_y)\n",
    "        # print(no_collision((state_x, state_y), (state_x, state_y)))\n",
    "        raise Exception(\"out of arena\")\n",
    "    else:\n",
    "        print(\"here\", i+1)\n",
    "    \n",
    "    positions[i + 1] = state_x, state_y\n",
    "\n",
    "    if state_y > 12.91 and state_x < 0:\n",
    "        print(\"early complete:\", i+1, \"steps\" if i else \"step\")\n",
    "        complete_index = i + 1\n",
    "        break\n",
    "\n",
    "\n",
    "\n",
    "\n",
    "\n",
    "\n",
    "\n",
    "\n",
    "# rte_adaptation = np.zeros((100, 26), dtype=np.float32)\n",
    "# for round_index in range(100):\n",
    "#     adaptor_rte = Adaptor_rte(v=0.5)\n",
    "#     errors = np.zeros(26)\n",
    "#     step_taken = steps_taken[round_index]\n",
    "\n",
    "#     for i, index in enumerate(step_taken):\n",
    "#         if i:\n",
    "#             step_data = np.zeros((2, 3))\n",
    "#             step_data[:, 0] = baseline[index, 0]\n",
    "#             step_data[:, 1] = baseline[index, 1]\n",
    "#             step_data[0, 2] = case[index, 0] - baseline[index, 0]\n",
    "#             step_data[1, 2] = case[index, 1] - baseline[index, 1]\n",
    "#             adaptor_rte.read_data(step_data)\n",
    "            \n",
    "#         predicted_x, predicted_y = adaptor_rte.predict(baseline[:, :2])\n",
    "#         errors[i] = np.mean(np.square(predicted_x[:, 0] - true_x) + np.square(predicted_y[:, 0] - true_y))\n",
    "#     rte_adaptation[round_index] = errors\n",
    "\n",
    "# print(rte_adaptation.shape)\n",
    "# np.save(f\"rte_case{case_index}.npy\", rte_adaptation)"
   ]
  },
  {
   "cell_type": "code",
   "execution_count": 9,
   "metadata": {},
   "outputs": [
    {
     "data": {
      "image/png": "[encoded data removed]",
      "text/plain": [
       "<Figure size 640x480 with 1 Axes>"
      ]
     },
     "metadata": {},
     "output_type": "display_data"
    }
   ],
   "source": [
    "import matplotlib.pyplot as plt\n",
    "\n",
    "plt.scatter(positions[:complete_index+1, 0], positions[:complete_index+1, 1])\n",
    "plt.show()"
   ]
  },
  {
   "cell_type": "code",
   "execution_count": 10,
   "metadata": {},
   "outputs": [
    {
     "name": "stdout",
     "output_type": "stream",
     "text": [
      "[[ 0.          0.        ]\n",
      " [ 4.428819   -0.35200644]\n",
      " [ 8.821344    0.31438217]\n",
      " [12.730658    0.89847934]\n",
      " [16.680431    0.7462041 ]\n",
      " [21.123116    0.7761509 ]\n",
      " [21.257921    2.5758135 ]\n",
      " [21.255054    5.253453  ]\n",
      " [21.46704     7.9226894 ]\n",
      " [21.278849   10.4569435 ]\n",
      " [21.08253    13.127378  ]\n",
      " [17.323217   13.639283  ]\n",
      " [13.982207   13.420237  ]\n",
      " [10.316759   13.795574  ]\n",
      " [ 6.6340284  13.67776   ]\n",
      " [ 3.1773362  13.207402  ]\n",
      " [ 0.5035958  13.351876  ]]\n"
     ]
    }
   ],
   "source": [
    "print(positions[:complete_index])"
   ]
  }
 ],
 "metadata": {
  "kernelspec": {
   "display_name": "data_science",
   "language": "python",
   "name": "python3"
  },
  "language_info": {
   "codemirror_mode": {
    "name": "ipython",
    "version": 3
   },
   "file_extension": ".py",
   "mimetype": "text/x-python",
   "name": "python",
   "nbconvert_exporter": "python",
   "pygments_lexer": "ipython3",
   "version": "3.8.10"
  },
  "orig_nbformat": 4
 },
 "nbformat": 4,
 "nbformat_minor": 2
}
