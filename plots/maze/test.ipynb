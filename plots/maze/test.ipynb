{
 "cells": [
  {
   "cell_type": "code",
   "execution_count": 56,
   "metadata": {},
   "outputs": [],
   "source": [
    "from tools import reward, all_valid\n",
    "import numpy as np\n",
    "from Adaptor import Adaptor_rte\n",
    "import math"
   ]
  },
  {
   "cell_type": "code",
   "execution_count": 57,
   "metadata": {},
   "outputs": [],
   "source": [
    "baseline = np.load(\"filtered_baseline.npy\")\n",
    "case = np.load(\"f=0.85_s=0.9_dmg1.npy\")\n",
    "adaptor_rte = Adaptor_rte(v=0.5)"
   ]
  },
  {
   "cell_type": "code",
   "execution_count": 58,
   "metadata": {},
   "outputs": [
    {
     "name": "stdout",
     "output_type": "stream",
     "text": [
      "here 8\n",
      "early complete: 20 steps\n"
     ]
    }
   ],
   "source": [
    "# RTE\n",
    "state_x = 0\n",
    "state_y = 0\n",
    "state_theta = 0.7\n",
    "# state_theta = 0\n",
    "outcomes = np.zeros((len(baseline), 2), dtype=np.float32)\n",
    "\n",
    "budget = 30\n",
    "\n",
    "positions = np.zeros((budget, 2), dtype=np.float32)\n",
    "complete_index = budget\n",
    "\n",
    "for i in range(budget):\n",
    "    R_matrix = np.array([\n",
    "        [math.cos(state_theta), -math.sin(state_theta)],\n",
    "        [math.sin(state_theta), math.cos(state_theta)]\n",
    "    ], dtype=np.float32)\n",
    "\n",
    "    predicted_x, predicted_y = adaptor_rte.predict(baseline[:, :2])\n",
    "    outcomes[:, 0] = predicted_x[:, 0]\n",
    "    outcomes[:, 1] = predicted_y[:, 0]\n",
    "    outcomes = outcomes @ R_matrix.T\n",
    "    outcomes[:, 0] += state_x\n",
    "    outcomes[:, 1] += state_y\n",
    "\n",
    "    rewards = reward((state_x, state_y), outcomes)\n",
    "\n",
    "    next_action_index = np.argmax(rewards)\n",
    "    # print(outcomes[next_action_index])\n",
    "    # print(next_action_index)\n",
    "\n",
    "    true_x , true_y = case[next_action_index, :2]\n",
    "    true_v, true_w, true_phi = case[next_action_index, 2:]\n",
    "\n",
    "    step_data = np.zeros((2, 3))\n",
    "    step_data[:, 0] = baseline[next_action_index, 0]\n",
    "    step_data[:, 1] = baseline[next_action_index, 1]\n",
    "    step_data[0, 2] = true_x - baseline[next_action_index, 0]\n",
    "    step_data[1, 2] = true_y - baseline[next_action_index, 1]\n",
    "    adaptor_rte.read_data(step_data)\n",
    "\n",
    "\n",
    "    new_x = math.cos(state_theta)*true_x - math.sin(state_theta)*true_y + state_x\n",
    "    new_y = math.sin(state_theta)*true_x + math.cos(state_theta)*true_y + state_y\n",
    "\n",
    "    # trajectory_samples = np.zeros((16, 2), dtype=np.float32)\n",
    "    # theta = np.linspace(0, 4, 16) * true_w + state_theta + true_phi\n",
    "    # trajectory_samples[:, 0] = true_v / true_w * (np.sin(theta) - math.sin(state_theta + true_phi))\n",
    "    # trajectory_samples[:, 1] = true_v / true_w * (math.cos(state_theta + true_phi) - np.cos(theta))\n",
    "    # print(state_theta * 57.296)\n",
    "\n",
    "    if all_valid((state_x, state_y), (new_x, new_y)):\n",
    "    # if all_valid(trajectory_samples):\n",
    "    #     state_x += math.cos(state_theta)*true_x - math.sin(state_theta)*true_y \n",
    "    #     state_y += math.sin(state_theta)*true_x + math.cos(state_theta)*true_y\n",
    "        state_x = new_x\n",
    "        state_y = new_y\n",
    "        state_theta += 4*true_w\n",
    "    else:\n",
    "        print(\"here\", i+1)\n",
    "    \n",
    "    positions[i] = state_x, state_y\n",
    "\n",
    "    if state_y > 22.09:\n",
    "    # if state_y > 12.09:\n",
    "        print(\"early complete:\", i+1, \"steps\" if i else \"step\")\n",
    "        complete_index = i + 1\n",
    "        break\n",
    "\n",
    "\n",
    "\n",
    "\n",
    "\n",
    "\n",
    "\n",
    "\n",
    "# rte_adaptation = np.zeros((100, 26), dtype=np.float32)\n",
    "# for round_index in range(100):\n",
    "#     adaptor_rte = Adaptor_rte(v=0.5)\n",
    "#     errors = np.zeros(26)\n",
    "#     step_taken = steps_taken[round_index]\n",
    "\n",
    "#     for i, index in enumerate(step_taken):\n",
    "#         if i:\n",
    "#             step_data = np.zeros((2, 3))\n",
    "#             step_data[:, 0] = baseline[index, 0]\n",
    "#             step_data[:, 1] = baseline[index, 1]\n",
    "#             step_data[0, 2] = case[index, 0] - baseline[index, 0]\n",
    "#             step_data[1, 2] = case[index, 1] - baseline[index, 1]\n",
    "#             adaptor_rte.read_data(step_data)\n",
    "            \n",
    "#         predicted_x, predicted_y = adaptor_rte.predict(baseline[:, :2])\n",
    "#         errors[i] = np.mean(np.square(predicted_x[:, 0] - true_x) + np.square(predicted_y[:, 0] - true_y))\n",
    "#     rte_adaptation[round_index] = errors\n",
    "\n",
    "# print(rte_adaptation.shape)\n",
    "# np.save(f\"rte_case{case_index}.npy\", rte_adaptation)"
   ]
  },
  {
   "cell_type": "code",
   "execution_count": 59,
   "metadata": {},
   "outputs": [
    {
     "data": {
      "image/png": "[encoded data removed]",
      "text/plain": [
       "<Figure size 640x480 with 1 Axes>"
      ]
     },
     "metadata": {},
     "output_type": "display_data"
    }
   ],
   "source": [
    "import matplotlib.pyplot as plt\n",
    "\n",
    "plt.scatter(positions[:complete_index, 0], positions[:complete_index, 1])\n",
    "plt.show()"
   ]
  },
  {
   "cell_type": "code",
   "execution_count": 60,
   "metadata": {},
   "outputs": [
    {
     "name": "stdout",
     "output_type": "stream",
     "text": [
      "[[ 4.1269875  -1.6450902 ]\n",
      " [ 7.0100455  -0.56616044]\n",
      " [10.088262   -0.5926177 ]\n",
      " [10.320764    0.03225886]\n",
      " [13.185621   -1.094107  ]\n",
      " [13.517073   -0.8698461 ]\n",
      " [14.751012   -0.87443143]\n",
      " [14.751012   -0.87443143]\n",
      " [15.349954   -1.0407261 ]\n",
      " [15.9856     -0.67365354]\n",
      " [17.801388   -1.467073  ]\n",
      " [18.435177    0.64785254]\n",
      " [18.051172    0.4627526 ]\n",
      " [21.679829    1.2177927 ]\n",
      " [21.623177    4.923736  ]\n",
      " [21.683517    5.1535573 ]\n",
      " [21.376587    5.694093  ]\n",
      " [21.146236    7.889893  ]\n",
      " [20.817665   11.395097  ]\n",
      " [21.076561   13.931478  ]]\n"
     ]
    }
   ],
   "source": [
    "print(positions[:complete_index])"
   ]
  }
 ],
 "metadata": {
  "kernelspec": {
   "display_name": "data_science",
   "language": "python",
   "name": "python3"
  },
  "language_info": {
   "codemirror_mode": {
    "name": "ipython",
    "version": 3
   },
   "file_extension": ".py",
   "mimetype": "text/x-python",
   "name": "python",
   "nbconvert_exporter": "python",
   "pygments_lexer": "ipython3",
   "version": "3.8.10"
  },
  "orig_nbformat": 4
 },
 "nbformat": 4,
 "nbformat_minor": 2
}
