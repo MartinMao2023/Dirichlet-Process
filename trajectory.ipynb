{
 "cells": [
  {
   "attachments": {},
   "cell_type": "markdown",
   "metadata": {},
   "source": [
    "The function to extract velocity ($v$), angular velocity ($w$), and the initial direction ($\\phi$) from data sampled from trajectory"
   ]
  },
  {
   "attachments": {},
   "cell_type": "markdown",
   "metadata": {},
   "source": [
    "import modules"
   ]
  },
  {
   "cell_type": "code",
   "execution_count": 1,
   "metadata": {},
   "outputs": [],
   "source": [
    "import numpy as np\n",
    "from matplotlib import pyplot as plt\n",
    "import math"
   ]
  },
  {
   "attachments": {},
   "cell_type": "markdown",
   "metadata": {},
   "source": [
    "define the function"
   ]
  },
  {
   "cell_type": "code",
   "execution_count": 2,
   "metadata": {},
   "outputs": [],
   "source": [
    "def calculate_arc(x, y, t):\n",
    "    \"\"\" This function is very hard to understand.\n",
    "    For now just accept it.\n",
    "    \"\"\"\n",
    "\n",
    "    t1 = t.copy()\n",
    "    t2 = np.power(t1, 2.43713223)\n",
    "    row = np.sqrt(x**2 + y**2)\n",
    "\n",
    "    t1_square = np.sum(t1**2)\n",
    "    t2_square = np.sum(t2**2)\n",
    "    t1_t2 = np.sum(t1 * t2)\n",
    "    row_t1 = np.sum(row * t1)\n",
    "    row_t2 = np.sum(row * t2)\n",
    "    ratio = (row_t2*t1_square - row_t1*t1_t2) / (row_t1*t2_square - row_t2*t1_t2)\n",
    "\n",
    "    rough_w = 0 if ratio > 0 else math.pow(-13.61*ratio, 0.6958302) + 1e-10\n",
    "\n",
    "    weight = np.where(t*rough_w > np.pi, 0, 1)\n",
    "    t2 = np.power(t1, 2.8532847)\n",
    "\n",
    "    t1_square = np.sum(weight * t1**2)\n",
    "    t2_square = np.sum(weight * t2**2)\n",
    "    t1_t2 = np.sum(weight * t1 * t2)\n",
    "    row_t1 = np.sum(weight * row * t1)\n",
    "    row_t2 = np.sum(weight * row * t2)\n",
    "\n",
    "    det = t1_square*t2_square - t1_t2**2\n",
    "    v = (row_t1*t2_square - row_t2*t1_t2) / det\n",
    "    ratio = (row_t2*t1_square - row_t1*t1_t2) / (det * v)\n",
    "\n",
    "    w = 1e-5 if ratio > 0 else math.pow(-22.8071*ratio, 0.53958) \n",
    "\n",
    "    cos_beta = x / (row + 1e-10)\n",
    "    sin_beta = y / (row + 1e-10)\n",
    "    cost = np.cos(0.5*t1*w)\n",
    "    sint = np.sin(0.5*t1*w)\n",
    "\n",
    "    sin_weight = row**2 / (cos_beta**2 * sin_beta**2 + 1 + sin_beta**4 - 2*sin_beta**2 + 0.01)\n",
    "    cos_weight = row**2 / (cos_beta**2 * sin_beta**2 + 1 + cos_beta**4 - 2*cos_beta**2 + 0.01)\n",
    "\n",
    "    cos_det = np.sum(cos_weight*sint**2)*np.sum(cos_weight*cost**2) - np.sum(cos_weight*sint*cost)**2\n",
    "    sin_det = np.sum(sin_weight*sint**2)*np.sum(sin_weight*cost**2) - np.sum(sin_weight*sint*cost)**2\n",
    "\n",
    "    sinphi = (np.sum(sin_weight*sin_beta*cost)*np.sum(sin_weight*sint**2) - np.sum(sin_weight*sin_beta*sint)*np.sum(sin_weight*sint*cost)) / sin_det\n",
    "    sec_sinphi = (np.sum(cos_weight*cos_beta*sint)*np.sum(cos_weight*cost**2) - np.sum(cos_weight*cos_beta*cost)*np.sum(cos_weight*sint*cost)) / cos_det\n",
    "\n",
    "    sec_cosphi = (np.sum(sin_weight*sin_beta*sint)*np.sum(sin_weight*cost**2) - np.sum(sin_weight*sin_beta*cost)*np.sum(sin_weight*sint*cost)) / sin_det\n",
    "    cosphi = (np.sum(cos_weight*cos_beta*cost)*np.sum(cos_weight*sint**2) - np.sum(cos_weight*cos_beta*sint)*np.sum(cos_weight*sint*cost)) / cos_det\n",
    "\n",
    "    phi = math.atan2(sinphi, cosphi)\n",
    "\n",
    "    if abs(cosphi*sec_cosphi) >= abs(sec_sinphi*sinphi):\n",
    "        w = w if cosphi*sec_cosphi > 0 else -w\n",
    "    else:\n",
    "        w = w if sinphi*sec_sinphi < 0 else -w\n",
    "        \n",
    "    return v, w, phi"
   ]
  },
  {
   "attachments": {},
   "cell_type": "markdown",
   "metadata": {},
   "source": [
    "Now generate some data, starting from a perfect arc:"
   ]
  },
  {
   "cell_type": "code",
   "execution_count": 3,
   "metadata": {},
   "outputs": [],
   "source": [
    "angle = math.pi * 0.5    # <--- total angle. In this case it is a quarter circle\n",
    "arc = 100    # <--- arc length\n",
    "R = arc / angle \n",
    "\n",
    "total_time = 10    # <--- time for this trajectory\n",
    "phi = math.pi * 2/ 3    # <--- initial angle, 120 degree\n",
    "\n",
    "\n",
    "sample_amount = 64    # <--- number of samples taken from this trajectory\n",
    "\n",
    "\n",
    "t = np.arange(sample_amount) / sample_amount * total_time\n",
    "alpha = -np.arange(sample_amount) * (angle / sample_amount) + phi + math.pi / 2\n",
    "\n",
    "ox = R * math.sin(phi)\n",
    "oy = -R * math.cos(phi)\n",
    "\n",
    "px = np.cos(alpha)*R + ox \n",
    "py = np.sin(alpha)*R + oy\n"
   ]
  },
  {
   "attachments": {},
   "cell_type": "markdown",
   "metadata": {},
   "source": [
    "See the curve of alpha and distance against time:"
   ]
  },
  {
   "cell_type": "code",
   "execution_count": 4,
   "metadata": {},
   "outputs": [
    {
     "data": {
      "image/png": "[encoded data removed]",
      "text/plain": [
       "<Figure size 432x288 with 1 Axes>"
      ]
     },
     "metadata": {
      "needs_background": "light"
     },
     "output_type": "display_data"
    },
    {
     "data": {
      "image/png": "[encoded data removed]",
      "text/plain": [
       "<Figure size 432x288 with 1 Axes>"
      ]
     },
     "metadata": {
      "needs_background": "light"
     },
     "output_type": "display_data"
    }
   ],
   "source": [
    "plt.plot(t, alpha)\n",
    "plt.show()\n",
    "plt.plot(t, np.sqrt(px**2 + py**2))\n",
    "plt.show()"
   ]
  },
  {
   "attachments": {},
   "cell_type": "markdown",
   "metadata": {},
   "source": [
    "lets test the function"
   ]
  },
  {
   "cell_type": "code",
   "execution_count": 5,
   "metadata": {},
   "outputs": [
    {
     "name": "stdout",
     "output_type": "stream",
     "text": [
      "real v: 10.0000 \testimated v: 10.0258\n",
      "real w: -0.1571 \testimated w: -0.1573\n",
      "real phi: 120.01\testimated phi: 120.02\n"
     ]
    }
   ],
   "source": [
    "estimated_v, estimated_w, estimated_phi = calculate_arc(px, py, t)\n",
    "\n",
    "# print out the true values and the estimated values:\n",
    "print(\"real v:\", f\"{arc / 10 :<8.4f}\", end=\"\\t\")\n",
    "print(\"estimated v:\", round(estimated_v, 4))\n",
    "\n",
    "print(\"real w:\", f\"{-angle / 10 :<8.4f}\", end=\"\\t\")\n",
    "print(\"estimated w:\", round(estimated_w, 4))\n",
    "\n",
    "print(\"real phi:\", f\"{57.3*phi :<6.2f}\", end=\"\\t\")\n",
    "print(\"estimated phi:\", round(estimated_phi*57.3, 2))"
   ]
  },
  {
   "attachments": {},
   "cell_type": "markdown",
   "metadata": {},
   "source": [
    "Now lets add some noise:"
   ]
  },
  {
   "cell_type": "code",
   "execution_count": 7,
   "metadata": {},
   "outputs": [],
   "source": [
    "angle = math.pi * 1    # <--- total angle. In this case it is half a circle\n",
    "arc = 200    # <--- arc length\n",
    "R = arc / angle \n",
    "\n",
    "total_time = 10    # <--- time for this trajectory\n",
    "phi = -math.pi / 3    # <--- initial angle, -60 degree\n",
    "\n",
    "\n",
    "sample_amount = 64    # <--- number of samples taken from this trajectory\n",
    "\n",
    "\n",
    "t = np.arange(sample_amount) / sample_amount * total_time\n",
    "alpha = -np.arange(sample_amount) * (angle / sample_amount) + phi + math.pi / 2\n",
    "\n",
    "ox = R * math.sin(phi)\n",
    "oy = -R * math.cos(phi)\n",
    "\n",
    "px = np.cos(alpha)*R + ox \n",
    "py = np.sin(alpha)*R + oy\n",
    "\n",
    "\n",
    "## | <---  add some noise to data  ---> | ##\n",
    "px += np.random.normal(0, 5, sample_amount)\n",
    "py += np.random.normal(0, 5, sample_amount)"
   ]
  },
  {
   "attachments": {},
   "cell_type": "markdown",
   "metadata": {},
   "source": [
    "See the distance relation, this time with noise"
   ]
  },
  {
   "cell_type": "code",
   "execution_count": 8,
   "metadata": {},
   "outputs": [
    {
     "data": {
      "image/png": "[encoded data removed]",
      "text/plain": [
       "<Figure size 432x288 with 1 Axes>"
      ]
     },
     "metadata": {
      "needs_background": "light"
     },
     "output_type": "display_data"
    }
   ],
   "source": [
    "plt.plot(t, np.sqrt(px**2 + py**2))\n",
    "plt.show()"
   ]
  },
  {
   "attachments": {},
   "cell_type": "markdown",
   "metadata": {},
   "source": [
    "test again:"
   ]
  },
  {
   "cell_type": "code",
   "execution_count": 9,
   "metadata": {},
   "outputs": [
    {
     "name": "stdout",
     "output_type": "stream",
     "text": [
      "real v: 20.0000 \testimated v: 20.3502\n",
      "real w: -0.3142 \testimated w: -0.3302\n",
      "real phi: -60.00\testimated phi: -58.2\n"
     ]
    }
   ],
   "source": [
    "estimated_v, estimated_w, estimated_phi = calculate_arc(px, py, t)\n",
    "\n",
    "# print out the true values and the estimated values:\n",
    "print(\"real v:\", f\"{arc / 10 :<8.4f}\", end=\"\\t\")\n",
    "print(\"estimated v:\", round(estimated_v, 4))\n",
    "\n",
    "print(\"real w:\", f\"{-angle / 10 :<8.4f}\", end=\"\\t\")\n",
    "print(\"estimated w:\", round(estimated_w, 4))\n",
    "\n",
    "print(\"real phi:\", f\"{57.3*phi :<6.2f}\", end=\"\\t\")\n",
    "print(\"estimated phi:\", round(estimated_phi*57.3, 2))"
   ]
  },
  {
   "attachments": {},
   "cell_type": "markdown",
   "metadata": {},
   "source": [
    "The result suffers a little bit, but is still accurate. \n",
    "\n",
    "This seems too easy, lets try something harder.\n",
    "\n",
    "Lets make the robot go back and forth, and also add some sideways fluctuations:\n",
    "\n",
    "so the angle is:  $\\theta(t) = \\omega*t + A_{flucation}*sin(2{\\pi}t/T)$,\n",
    "\n",
    "and the radius is not fixed: $R(t) = R_0 + A_{sideways}*sin(2{\\pi}t/T)$ "
   ]
  },
  {
   "cell_type": "code",
   "execution_count": 26,
   "metadata": {},
   "outputs": [],
   "source": [
    "angle = math.pi * 1.5    # <--- total angle. In this case it is one and half a circle\n",
    "arc = 300    # <--- arc length\n",
    "R = arc / angle \n",
    "\n",
    "total_time = 10    # <--- time for this trajectory\n",
    "phi = math.pi * 5 / 12    # <--- initial angle, 75 degree\n",
    "\n",
    "\n",
    "sample_amount = 64    # <--- number of samples taken from this trajectory\n",
    "\n",
    "\n",
    "t = np.arange(sample_amount) / sample_amount * total_time\n",
    "alpha = -np.arange(sample_amount) * (angle / sample_amount) + phi + math.pi / 2\n",
    "\n",
    "ox = R * math.sin(phi)\n",
    "oy = -R * math.cos(phi)\n",
    "\n",
    "\n",
    "fluctuation_cycle = 10    # <--- fluctuate 5 cycles during the trajectory\n",
    "fluctuation_amplitude = 0.2    # <--- forward fluctation amplitude is 20% of total angle \n",
    "sideways_amplitude = 0.2    # <--- sideways fluctuation is 10% of arc length\n",
    "\n",
    "\n",
    "## | <---  we add the fluctuations  ---> | ##\n",
    "alpha += angle*fluctuation_amplitude*np.sin(2*math.pi*t/total_time*fluctuation_cycle)\n",
    "px = np.cos(alpha)*(R + arc*sideways_amplitude*np.sin(2*math.pi*t/total_time*fluctuation_cycle)) + ox \n",
    "py = np.sin(alpha)*(R + arc*sideways_amplitude*np.sin(2*math.pi*t/total_time*fluctuation_cycle)) + oy\n",
    "\n",
    "\n",
    "# and also the noise\n",
    "px += np.random.normal(0, 10, sample_amount)\n",
    "py += np.random.normal(0, 10, sample_amount)\n"
   ]
  },
  {
   "attachments": {},
   "cell_type": "markdown",
   "metadata": {},
   "source": [
    "Now see how the angle and distance are affected by both the noise and the fluctuation:"
   ]
  },
  {
   "cell_type": "code",
   "execution_count": 28,
   "metadata": {},
   "outputs": [
    {
     "data": {
      "image/png": "[encoded data removed]",
      "text/plain": [
       "<Figure size 432x288 with 1 Axes>"
      ]
     },
     "metadata": {
      "needs_background": "light"
     },
     "output_type": "display_data"
    },
    {
     "data": {
      "image/png": "[encoded data removed]",
      "text/plain": [
       "<Figure size 432x288 with 1 Axes>"
      ]
     },
     "metadata": {
      "needs_background": "light"
     },
     "output_type": "display_data"
    }
   ],
   "source": [
    "plt.plot(t, alpha)\n",
    "plt.show()\n",
    "plt.plot(t, np.sqrt(px**2 + py**2))\n",
    "plt.show()"
   ]
  },
  {
   "attachments": {},
   "cell_type": "markdown",
   "metadata": {},
   "source": [
    "Now, the moment of truth:"
   ]
  },
  {
   "cell_type": "code",
   "execution_count": 27,
   "metadata": {},
   "outputs": [
    {
     "name": "stdout",
     "output_type": "stream",
     "text": [
      "real v: 30.0000 \testimated v: 28.9167\n",
      "real w: -0.4712 \testimated w: -0.4745\n",
      "real phi: 75.01 \testimated phi: 76.67\n"
     ]
    }
   ],
   "source": [
    "estimated_v, estimated_w, estimated_phi = calculate_arc(px, py, t)\n",
    "\n",
    "# print out the true values and the estimated values:\n",
    "print(\"real v:\", f\"{arc / 10 :<8.4f}\", end=\"\\t\")\n",
    "print(\"estimated v:\", round(estimated_v, 4))\n",
    "\n",
    "print(\"real w:\", f\"{-angle / 10 :<8.4f}\", end=\"\\t\")\n",
    "print(\"estimated w:\", round(estimated_w, 4))\n",
    "\n",
    "print(\"real phi:\", f\"{57.3*phi :<6.2f}\", end=\"\\t\")\n",
    "print(\"estimated phi:\", round(estimated_phi*57.3, 2))"
   ]
  },
  {
   "attachments": {},
   "cell_type": "markdown",
   "metadata": {},
   "source": [
    "The function does suffer from the fluctuations further, but is still reasonably accurate.\n",
    "\n",
    "Note that we have made the noise very large. The forward and sideways fluctuation are as large as 20% and 10% of arc, respectively.\n",
    "\n",
    "We should see that this function is very resilient against noise and fluctuations."
   ]
  }
 ],
 "metadata": {
  "kernelspec": {
   "display_name": "base",
   "language": "python",
   "name": "python3"
  },
  "language_info": {
   "codemirror_mode": {
    "name": "ipython",
    "version": 3
   },
   "file_extension": ".py",
   "mimetype": "text/x-python",
   "name": "python",
   "nbconvert_exporter": "python",
   "pygments_lexer": "ipython3",
   "version": "3.9.12"
  },
  "orig_nbformat": 4
 },
 "nbformat": 4,
 "nbformat_minor": 2
}
